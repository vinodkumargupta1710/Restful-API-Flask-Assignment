{
  "nbformat": 4,
  "nbformat_minor": 0,
  "metadata": {
    "colab": {
      "provenance": []
    },
    "kernelspec": {
      "name": "python3",
      "display_name": "Python 3"
    },
    "language_info": {
      "name": "python"
    }
  },
  "cells": [
    {
      "cell_type": "markdown",
      "source": [
        "#Theory Questions :"
      ],
      "metadata": {
        "id": "6g_jjFDZsBUU"
      }
    },
    {
      "cell_type": "markdown",
      "source": [
        "#1. What is a RESTful API?\n",
        "**Answer** : A RESTful API (Representational State of Resource) is an architectural style for designing networked applications. It uses HTTP methods to perform CRUD operations on resources.\n",
        "\n",
        "#2. Explain the concept of API specification\n",
        "**Answer** : An API specification defines the interface and behavior of an API, including endpoints, methods, parameters and response formats.\n",
        "\n",
        "#3. What is Flask, and why is it popular for building APIs?\n",
        "**Answer** : Flask is a lightweight Python web framework that's popular for building APIs due to its flexibility, simplicity and ease of use.\n",
        "\n",
        "#4. What is routing in Flask?\n",
        "**Answer** : Routing in Flask refers to mapping URLs to specific application endpoints.\n",
        "\n",
        "#5. How do you create a simple Flask application?\n",
        "**Answer** : To create a simple Flask application:\n",
        "- Install Flask using pip: pip install flask\n",
        "- Create a new Python file (e.g. app.py)\n",
        "- Import Flask and create an app instance: app = Flask(__name__)\n",
        "- Define a route using @app.route('/')\n",
        "- Run the app using app.run()\n",
        "\n",
        "#6. What are HTTP methods used in RESTful APIs?\n",
        "**Answer** : Common HTTP methods used in RESTful APIs include:\n",
        "- GET: Retrieve a resource\n",
        "- POST: Create a new resource\n",
        "- PUT: Update an existing resource\n",
        "- DELETE: Delete a resource\n",
        "\n",
        "#7. What is the purpose of the @app.route() decorator in Flask?\n",
        "**Answer** : The @app.route() decorator is used to define routes in Flask.\n",
        "\n",
        "#8. What is the difference between GET and POST HTTP methods?\n",
        "**Answer** : GET retrieves data from the server, while POST sends data to the server to create or update a resource.\n",
        "\n",
        "#9. How do you handle errors in Flask APIs?\n",
        "**Answer** : To handle errors in Flask APIs :-\n",
        "- Use try-except blocks to catch exceptions\n",
        "- Return error responses with relevant HTTP status codes\n",
        "\n",
        "#10. How do you connect Flask to a SQL database?\n",
        "**Answer** : To connect Flask to a SQL database:\n",
        "- Use a library like Flask-SQLAlchemy\n",
        "- Define models and perform CRUD operations\n",
        "\n",
        "#11. What is the role of Flask-SQLAlchemy?\n",
        "**Answer** : Flask-SQLAlchemy is a library that provides a high-level interface for interacting with SQL databases in Flask.\n",
        "\n",
        "#12. What are Flask blueprints, and how are they useful?\n",
        "**Answer** : Flask blueprints are a way to organize and structure Flask applications. They're useful for:\n",
        "- Modularity\n",
        "- Reusability\n",
        "- Easier maintenance\n",
        "\n",
        "#13. What is the purpose of Flask's request object?\n",
        "**Answer** : The request object provides access to incoming request data, including:\n",
        "- Form data\n",
        "- Query parameters\n",
        "- Headers\n",
        "\n",
        "#14. How do you create a RESTful API endpoint using Flask?\n",
        "**Answer** : To create a RESTful API endpoint using Flask:\n",
        "- Define a route using @app.route()\n",
        "- Use HTTP methods to perform CRUD operations\n",
        "\n",
        "#15. What is the purpose of Flask's jsonify() function?\n",
        "**Answer** : The jsonify() function is used to generate JSON responses in Flask.\n",
        "\n",
        "#16. Explain Flask’s url_for() function.\n",
        "**Answer** : The url_for() function generates URLs for routes in Flask.\n",
        "\n",
        "#17. How does Flask handle static files (CSS, JavaScript, etc.)?\n",
        "**Answer** : Flask handles static files by serving them from the static folder.\n",
        "\n",
        "#18. What is an API specification, and how does it help in building a Flask API?\n",
        "**Answer** : An API specification defines the interface and behavior of an API. It helps in building a Flask API by:\n",
        "- Providing a clear understanding of the API's functionality.\n",
        "- Guiding the implementation of the API.\n",
        "\n",
        "#19. What are HTTP status codes, and why are they important in a Flask API?\n",
        "**Answer** : HTTP status codes indicate the result of an HTTP request. They're important in a Flask API because they:\n",
        "- Provide feedback to clients about the success or failure of requests\n",
        "- Help with error handling and debugging\n",
        "\n",
        "#20. How do you handle POST requests in Flask?\n",
        "**Answer** : To handle POST requests in Flask:\n",
        "- Use the request object to access form data\n",
        "- Use the @app.route() decorator with the methods=['POST'] parameter\n",
        "\n",
        "#21. How would you secure a Flask API?\n",
        "**Answer** : To secure a Flask API:\n",
        "- Use authentication and authorization mechanisms\n",
        "- Validate and sanitize user input\n",
        "- Use HTTPS\n",
        "\n",
        "#22. What is the significance of the Flask-RESTful extension?\n",
        "**Answer** : Flask-RESTful is a library that provides a simple and consistent way to build RESTful APIs in Flask.\n",
        "\n",
        "#23. What is the role of Flask’s session object?\n",
        "**Answer** : The session object provides a way to store and retrieve data across requests. It's useful for:\n",
        "- User authentication and authorization\n",
        "- Storing temporary data"
      ],
      "metadata": {
        "id": "bBrRCgpasHkA"
      }
    },
    {
      "cell_type": "markdown",
      "source": [
        "# Practical Questions :-"
      ],
      "metadata": {
        "id": "X5eT9o9EvNZW"
      }
    },
    {
      "cell_type": "markdown",
      "source": [
        "#1. How do you create a basic Flask application?\n",
        "**Answer** :\n",
        "To create a basic Flask application:\n",
        "- Install Flask using pip: pip install flask\n",
        "- Create a new Python file (e.g., app.py)\n",
        "- Import Flask and create an app instance: app = Flask(__name__)\n",
        "- Define a route using @app.route('/')\n",
        "- Run the app using app.run()\n"
      ],
      "metadata": {
        "id": "ifushQNBv0o-"
      }
    },
    {
      "cell_type": "code",
      "execution_count": null,
      "metadata": {
        "id": "R3I5Jh8WrzE-"
      },
      "outputs": [],
      "source": [
        "from flask import Flask\n",
        "app = Flask(__name__)\n",
        "\n",
        "@app.route('/')\n",
        "def hello_world():\n",
        "    return 'Hello, World!'\n",
        "\n",
        "if __name__ == '__main__':\n",
        "    app.run()"
      ]
    },
    {
      "cell_type": "markdown",
      "source": [
        "#2. How do you serve static files like images or CSS in Flask?\n",
        "**Answer** :\n",
        "To serve static files in Flask:\n",
        "- Create a static folder in your app directory\n",
        "- Place your static files (e.g., images, CSS, JavaScript) inside the static folder\n",
        "- Use the url_for function to generate URLs for your static files\n"
      ],
      "metadata": {
        "id": "ROt16sVFwf-m"
      }
    },
    {
      "cell_type": "code",
      "source": [
        "from flask import url_for\n",
        "\n",
        "@app.route('/')\n",
        "def index():\n",
        "    return '<img src=\"{}\">'.format(url_for('static', filename='image.jpg'))"
      ],
      "metadata": {
        "id": "o05gtVEGwZAy"
      },
      "execution_count": null,
      "outputs": []
    },
    {
      "cell_type": "markdown",
      "source": [
        "#3. How do you define different routes with different HTTP methods in Flask?\n",
        "**Answer** :\n",
        "To define different routes with different HTTP methods in Flask:\n",
        "- Use the methods parameter with the @app.route decorator\n",
        "- Specify the allowed HTTP methods (e.g., GET, POST, PUT, DELETE)\n"
      ],
      "metadata": {
        "id": "yCi--5cyw-37"
      }
    },
    {
      "cell_type": "code",
      "source": [
        "from flask import request\n",
        "\n",
        "@app.route('/submit', methods=['GET', 'POST'])\n",
        "def submit():\n",
        "    if request.method == 'POST':\n",
        "        # Handle form submission\n",
        "        pass\n",
        "    else:\n",
        "        # Render form template\n",
        "        pass\n"
      ],
      "metadata": {
        "id": "xMtYfur_wY_1"
      },
      "execution_count": null,
      "outputs": []
    },
    {
      "cell_type": "markdown",
      "source": [
        "#4. How do you render HTML templates in Flask?\n",
        "**Answer** :\n",
        "To render HTML templates in Flask:\n",
        "- Use the render_template function\n",
        "- Create a templates folder in your app directory\n",
        "- Place your HTML templates inside the templates folder\n"
      ],
      "metadata": {
        "id": "FiPxT51zxTC6"
      }
    },
    {
      "cell_type": "code",
      "source": [
        "from flask import render_template\n",
        "\n",
        "@app.route('/')\n",
        "def index():\n",
        "    return render_template('index.html')\n"
      ],
      "metadata": {
        "id": "B_LVsPMJwY7J"
      },
      "execution_count": null,
      "outputs": []
    },
    {
      "cell_type": "markdown",
      "source": [
        "#5. How can you generate URLs for routes in Flask using url_for?\n",
        "**Answer** :\n",
        "To generate URLs for routes in Flask using url_for:\n",
        "- Use the url_for function\n",
        "- Pass the endpoint name (e.g., function name) as an argument\n"
      ],
      "metadata": {
        "id": "cDGl0IxWyJi_"
      }
    },
    {
      "cell_type": "code",
      "source": [
        "from flask import url_for\n",
        "\n",
        "@app.route('/')\n",
        "def index():\n",
        "    return '<a href=\"{}\">Link</a>'.format(url_for('about'))\n",
        "\n",
        "@app.route('/about')\n",
        "def about():\n",
        "    return 'About page'\n"
      ],
      "metadata": {
        "id": "XaPU4Y_6wY6I"
      },
      "execution_count": null,
      "outputs": []
    },
    {
      "cell_type": "markdown",
      "source": [
        "#6. How do you handle forms in Flask?\n",
        "**Answer** :\n",
        "To handle forms in Flask:\n",
        "- Use the request object to access form data\n",
        "- Use the request.form dictionary to access form fields\n",
        "\n",
        "Example:\n"
      ],
      "metadata": {
        "id": "5-sG7hneycoc"
      }
    },
    {
      "cell_type": "code",
      "source": [
        "from flask import request\n",
        "\n",
        "@app.route('/submit', methods=['POST'])\n",
        "def submit():\n",
        "    name = request.form['name']\n",
        "    email = request.form['email']\n",
        "    # Process form data\n",
        "    pass\n"
      ],
      "metadata": {
        "id": "pVEHv3g3wY1V"
      },
      "execution_count": null,
      "outputs": []
    },
    {
      "cell_type": "markdown",
      "source": [
        "#7. How can you validate form data in Flask?\n",
        "**Answer** :\n",
        "To validate form data in Flask:\n",
        "- Use a library like Flask-WTF or WTForms\n",
        "- Define form classes with validation rules\n",
        "\n",
        "Example:\n"
      ],
      "metadata": {
        "id": "Go6kQGsXNeRk"
      }
    },
    {
      "cell_type": "code",
      "source": [
        "from flask_wtf import FlaskForm\n",
        "from wtforms import StringField, validators\n",
        "\n",
        "class MyForm(FlaskForm):\n",
        "    name = StringField('Name', [validators.Length(min=4, max=25)])\n",
        "\n",
        "@app.route('/submit', methods=['POST'])\n",
        "def submit():\n",
        "    form = MyForm()\n",
        "    if form.validate_on_submit():\n",
        "        # Process form data\n",
        "        pass\n"
      ],
      "metadata": {
        "id": "tAzC1plEwY0a"
      },
      "execution_count": null,
      "outputs": []
    },
    {
      "cell_type": "markdown",
      "source": [
        "#8. How do you manage sessions in Flask?\n",
        "**Answer** :\n",
        "To manage sessions in Flask:\n",
        "- Use the session object\n",
        "- Set and get session variables using session['key']\n",
        "\n",
        "Example:\n",
        "\n"
      ],
      "metadata": {
        "id": "2iRpiFnXN0F_"
      }
    },
    {
      "cell_type": "code",
      "source": [
        "from flask import session\n",
        "\n",
        "@app.route('/login')\n",
        "def login():\n",
        "    session['username'] = 'john'\n",
        "    return 'Logged in'\n",
        "\n",
        "@app.route('/protected')\n",
        "def protected():\n",
        "    if 'username' in session:\n",
        "        # Allow access\n",
        "        pass\n"
      ],
      "metadata": {
        "id": "_ZLppTmfwYwD"
      },
      "execution_count": null,
      "outputs": []
    },
    {
      "cell_type": "markdown",
      "source": [
        "#9. How do you redirect to a different route in Flask?\n",
        "**Answer** :\n",
        "To redirect to a different route in Flask:\n",
        "- Use the redirect function\n",
        "- Use the url_for function to generate the URL\n",
        "\n",
        "Example:\n"
      ],
      "metadata": {
        "id": "fRZ6u72cOBk6"
      }
    },
    {
      "cell_type": "code",
      "source": [
        "from flask import redirect, url_for\n",
        "\n",
        "@app.route('/old-route')\n",
        "def old_route():\n",
        "    return redirect(url_for('new_route'))\n",
        "\n",
        "@app.route('/new-route')\n",
        "def new_route():\n",
        "    return 'New route to new_route()"
      ],
      "metadata": {
        "id": "9xLXuJnDwYvH"
      },
      "execution_count": null,
      "outputs": []
    },
    {
      "cell_type": "markdown",
      "source": [
        "#10. How do you handle errors in Flask (e.g., 404)?\n",
        "**Answer** :\n",
        "To handle errors in Flask:\n",
        "- Use the @app.errorhandler decorator\n",
        "- Define a custom error handler function\n",
        "\n",
        "Example:\n"
      ],
      "metadata": {
        "id": "fKXAiPU1OMAF"
      }
    },
    {
      "cell_type": "code",
      "source": [
        "from flask import render_template\n",
        "\n",
        "@app.errorhandler(404)\n",
        "def page_not\n"
      ],
      "metadata": {
        "id": "hV27nl0gwYqV"
      },
      "execution_count": null,
      "outputs": []
    },
    {
      "cell_type": "markdown",
      "source": [
        "#11. How do you structure a Flask app using Blueprints?\n",
        "**Answer** :\n",
        "To structure a Flask app using Blueprints:\n",
        "- Create separate modules for different components of your app\n",
        "- Define a Blueprint for each module\n",
        "- Register the Blueprints with the main app instance\n",
        "\n",
        "Example:\n",
        "\n"
      ],
      "metadata": {
        "id": "3rwoDi5_OZLH"
      }
    },
    {
      "cell_type": "code",
      "source": [
        "# myapp/__init__.py\n",
        "from flask import Flask\n",
        "from . import auth, admin\n",
        "\n",
        "app = Flask(__name__)\n",
        "app.register_blueprint(auth.bp)\n",
        "app.register_blueprint(admin.bp)\n"
      ],
      "metadata": {
        "id": "C46ou19rwYpY"
      },
      "execution_count": null,
      "outputs": []
    },
    {
      "cell_type": "markdown",
      "source": [
        "#12. How do you define a custom Jinja filter in Flask?\n",
        "**Answer** :\n",
        "To define a custom Jinja filter in Flask:\n",
        "- Use the @app.template_filter decorator\n",
        "- Define a function that takes a value and returns a filtered value\n",
        "\n",
        "Example:\n",
        "\n"
      ],
      "metadata": {
        "id": "wvQqx9eGOlt3"
      }
    },
    {
      "cell_type": "code",
      "source": [
        "@app.template_filter('datetimeformat')\n",
        "def datetimeformat(value, format='%Y-%m-%d %H:%M:%S'):\n",
        "    return value.strftime(format)\n"
      ],
      "metadata": {
        "id": "gMmj41DbwYkR"
      },
      "execution_count": null,
      "outputs": []
    },
    {
      "cell_type": "markdown",
      "source": [
        "#13. How can you redirect with query parameters in Flask?\n",
        "**Answer** :\n",
        "To redirect with query parameters in Flask:\n",
        "- Use the redirect function\n",
        "- Use the url_for function with query parameters\n",
        "\n",
        "Example:\n"
      ],
      "metadata": {
        "id": "F8OsvpYqOul9"
      }
    },
    {
      "cell_type": "code",
      "source": [
        "from flask import redirect, url_for\n",
        "\n",
        "@app.route('/old-route')\n",
        "def old_route():\n",
        "    return redirect(url_for('new_route', param1='value1', param2='value2'))\n"
      ],
      "metadata": {
        "id": "sNj9djfMwYjY"
      },
      "execution_count": null,
      "outputs": []
    },
    {
      "cell_type": "markdown",
      "source": [
        "#14. How do you return JSON responses in Flask?\n",
        "**Answer** :\n",
        "To return JSON responses in Flask:\n",
        "- Use the jsonify function\n",
        "- Pass a dictionary or list to the jsonify function\n",
        "\n",
        "Example:\n"
      ],
      "metadata": {
        "id": "NkkAV8hnO5fV"
      }
    },
    {
      "cell_type": "code",
      "source": [
        "from flask import jsonify\n",
        "\n",
        "@app.route('/api/data')\n",
        "def get_data():\n",
        "    data = {'key': 'value'}\n",
        "    return jsonify(data)"
      ],
      "metadata": {
        "id": "NCsdttKDwYeo"
      },
      "execution_count": null,
      "outputs": []
    },
    {
      "cell_type": "markdown",
      "source": [
        "#15. How do you capture URL parameters in Flask?\n",
        "**Answer** :\n",
        "To capture URL parameters in Flask:\n",
        "- Use angle brackets <> in the route path\n",
        "- Define a function parameter with the same name as the URL parameter\n",
        "\n",
        "Example:\n"
      ],
      "metadata": {
        "id": "FzwpkJmQPFf_"
      }
    },
    {
      "cell_type": "code",
      "source": [
        "@app.route('/users/<username>')\n",
        "def show_user_profile(username):\n",
        "    # Show the user profile for that user\n",
        "    return 'User %s' % username\n"
      ],
      "metadata": {
        "id": "uBx2CDr6wYdv"
      },
      "execution_count": null,
      "outputs": []
    },
    {
      "cell_type": "code",
      "source": [],
      "metadata": {
        "id": "-tMA06pUwYYY"
      },
      "execution_count": null,
      "outputs": []
    }
  ]
}